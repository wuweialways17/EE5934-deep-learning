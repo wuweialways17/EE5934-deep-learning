{
 "cells": [
  {
   "cell_type": "markdown",
   "metadata": {},
   "source": [
    "# HW1: Know the data\n",
    "HW1 introduces you the dataset which will be used for this and other assignments together with some useful preprocessing methods. Later assignments will cover different classification methods."
   ]
  },
  {
   "cell_type": "code",
   "execution_count": 3,
   "metadata": {},
   "outputs": [
    {
     "name": "stdout",
     "output_type": "stream",
     "text": [
      "The autoreload extension is already loaded. To reload it, use:\n",
      "  %reload_ext autoreload\n"
     ]
    }
   ],
   "source": [
    "import os\n",
    "import sys\n",
    "sys.path.append(\"../../homework\")\n",
    "import matplotlib.pyplot as plt\n",
    "import numpy as np\n",
    "\n",
    "%load_ext autoreload\n",
    "%autoreload 2"
   ]
  },
  {
   "cell_type": "markdown",
   "metadata": {},
   "source": [
    "## Fashion Mnist \n",
    "Read [here](https://github.com/zalandoresearch/fashion-mnist) to learn more about the Fashion Mnist  dataset. "
   ]
  },
  {
   "cell_type": "code",
   "execution_count": 6,
   "metadata": {},
   "outputs": [],
   "source": [
    "# Load the Fashion Mnist  data\n",
    "import mnist_reader\n",
    "trainX, trainy = mnist_reader.load_mnist('../data/', kind='train')\n",
    "testX, testy = mnist_reader.load_mnist('../data/', kind='t10k')\n"
   ]
  },
  {
   "cell_type": "code",
   "execution_count": 7,
   "metadata": {},
   "outputs": [
    {
     "name": "stdout",
     "output_type": "stream",
     "text": [
      "train image data shape: (60000, 784)\n",
      "train label data shape: (60000,)\n",
      "test image data shape: (10000, 784)\n",
      "test label data shape: (10000,)\n"
     ]
    }
   ],
   "source": [
    "# Print some statistics about the data\n",
    "print(\"train image data shape:\", trainX.shape)\n",
    "print(\"train label data shape:\", trainy.shape)\n",
    "print(\"test image data shape:\", testX.shape)\n",
    "print(\"test label data shape:\", testy.shape)"
   ]
  },
  {
   "cell_type": "markdown",
   "metadata": {},
   "source": [
    "## Visualize the flattened data\n",
    "The 28x28 Fashion Mnist images have been flattened as 784 x 1 image vectors.\n",
    "\n",
    "Flattening the data will lead to some loss of information (such as spatial correlation between pixels) but it is nevertheless useful for training some linear classifiers.\n",
    "\n",
    "Write some code below to visualize the “flattened” data. From the visualization, is “flattened data” sufficiently discriminative for classification purposes? Please provide a brief explanation."
   ]
  },
  {
   "cell_type": "code",
   "execution_count": null,
   "metadata": {},
   "outputs": [],
   "source": [
    "#####################################################################\n",
    "# TODO:                                                             #\n",
    "# Visualize the data to illustrate that the flattened data is still #\n",
    "# good for classification                                           #\n",
    "#####################################################################\n",
    "# your code\n",
    "#####################################################################\n",
    "#                       END OF YOUR CODE                            #\n",
    "#####################################################################"
   ]
  },
  {
   "cell_type": "markdown",
   "metadata": {},
   "source": [
    "## A few more visualization exercises"
   ]
  },
  {
   "cell_type": "markdown",
   "metadata": {},
   "source": [
    "Please complete the following to get a better understanding of the Fashion Mnist data:\n",
    "\n",
    "**a.** Reshape the flattened data back to 2D and plot \"average\" images of digits 0-9 in one figure. What does this show or represent?\n",
    "\n",
    "**b.** Subtract the average pixel value computed from all training samples and then re-plot the above “average\" images. How are these images useful?"
   ]
  },
  {
   "cell_type": "code",
   "execution_count": null,
   "metadata": {},
   "outputs": [],
   "source": [
    "#####################################################################\n",
    "# TODO:                                                             #\n",
    "# Plot each \"average image\" of digits 0-9                           #\n",
    "#####################################################################\n",
    "# your code\n",
    "#####################################################################\n",
    "#                       END OF YOUR CODE                            #\n",
    "#####################################################################"
   ]
  },
  {
   "cell_type": "code",
   "execution_count": null,
   "metadata": {},
   "outputs": [],
   "source": [
    "#####################################################################\n",
    "# TODO:                                                             #\n",
    "# Plot the \"average\" images of digits 1~9 in one figure             #\n",
    "# (this time with average pixel values subtracted)                  #\n",
    "#####################################################################\n",
    "# your code\n",
    "#####################################################################\n",
    "#                       END OF YOUR CODE                            #\n",
    "#####################################################################"
   ]
  },
  {
   "cell_type": "markdown",
   "metadata": {},
   "source": [
    "In your submission, in addition to the completed codes and the resulting images for the visualizations, also provide brief responses to the above questions and a brief analysis of the visualized data. "
   ]
  },
  {
   "cell_type": "markdown",
   "metadata": {},
   "source": [
    "You may refer to [here](http://colah.github.io/posts/2014-10-Visualizing-MNIST/) for more interesting and beautiful visualisations. Of course, the methods employed are more complex."
   ]
  }
 ],
 "metadata": {
  "kernelspec": {
   "display_name": "Python 3",
   "language": "python",
   "name": "python3"
  },
  "language_info": {
   "codemirror_mode": {
    "name": "ipython",
    "version": 3
   },
   "file_extension": ".py",
   "mimetype": "text/x-python",
   "name": "python",
   "nbconvert_exporter": "python",
   "pygments_lexer": "ipython3",
   "version": "3.7.1"
  }
 },
 "nbformat": 4,
 "nbformat_minor": 2
}
